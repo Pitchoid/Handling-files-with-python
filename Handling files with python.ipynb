{
 "cells": [
  {
   "cell_type": "code",
   "execution_count": 34,
   "id": "e1d12827-9b92-46d6-802c-1047888fbcee",
   "metadata": {},
   "outputs": [],
   "source": [
    "f = open(\"python.txt\",'r',encoding = 'utf-8')"
   ]
  },
  {
   "cell_type": "code",
   "execution_count": 24,
   "id": "a470353a-2251-48a2-9f93-73ef4551340f",
   "metadata": {},
   "outputs": [
    {
     "name": "stdout",
     "output_type": "stream",
     "text": [
      "What is Python language?                                                \n",
      "Python is a widely used high-level, general-purpose, interpreted, dynamic programming language.Its design philosophy emphasizes code readability, and its syntax allows programmers to express concepts in fewer lines of code than possible in \n",
      "languages such as C++ or Java. \n",
      "Python supports multiple programming paradigms, including object-oriented, imperative and functional programming or procedural styles. It features a dynamic type system and automatic memory management and has a large and comprehensive standard library.The best way we learn anything is by practice and exercise questions. We  have started this section for those (beginner to intermediate) who are familiar with Python."
     ]
    }
   ],
   "source": [
    "for line in f:\n",
    "       print(line, end = '')"
   ]
  },
  {
   "cell_type": "code",
   "execution_count": 36,
   "id": "5d92fa08-2fc5-4474-b671-f7186494b9d4",
   "metadata": {},
   "outputs": [
    {
     "name": "stdout",
     "output_type": "stream",
     "text": [
      "What is Python language?                                                \n",
      "\n"
     ]
    }
   ],
   "source": [
    "f = open(\"python.txt\",'r',encoding = 'utf-8')\n",
    "print(f.readline())"
   ]
  },
  {
   "cell_type": "code",
   "execution_count": 37,
   "id": "21cc3e23-756c-45d2-a555-e69f95087233",
   "metadata": {
    "tags": []
   },
   "outputs": [
    {
     "name": "stdout",
     "output_type": "stream",
     "text": [
      "Python supports multiple programming paradigms, including object-oriented, imperative and functional programming or procedural styles. It features a dynamic type system and automatic memory management and has a large and comprehensive standard library.The best way we learn anything is by practice and exercise questions. We  have started this section for those (beginner to intermediate) who are familiar with Python.\n"
     ]
    }
   ],
   "source": [
    "f = open(\"python.txt\",'r',encoding = 'utf-8')\n",
    "last = f.readlines()[-1]\n",
    "print(last)"
   ]
  },
  {
   "cell_type": "code",
   "execution_count": 38,
   "id": "94eb38e6-4c2a-4f0d-b767-b44a302c86c9",
   "metadata": {},
   "outputs": [
    {
     "name": "stdout",
     "output_type": "stream",
     "text": [
      "100\n"
     ]
    }
   ],
   "source": [
    "with open('python.txt','r+') as f:\n",
    "    lines=f.read()\n",
    "    words=lines.split()\n",
    "    print(len(words))"
   ]
  }
 ],
 "metadata": {
  "kernelspec": {
   "display_name": "Python 3 (ipykernel)",
   "language": "python",
   "name": "python3"
  },
  "language_info": {
   "codemirror_mode": {
    "name": "ipython",
    "version": 3
   },
   "file_extension": ".py",
   "mimetype": "text/x-python",
   "name": "python",
   "nbconvert_exporter": "python",
   "pygments_lexer": "ipython3",
   "version": "3.8.13"
  }
 },
 "nbformat": 4,
 "nbformat_minor": 5
}
